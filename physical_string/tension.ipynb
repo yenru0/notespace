{
 "cells": [
  {
   "cell_type": "code",
   "execution_count": 9,
   "metadata": {
    "collapsed": true
   },
   "outputs": [],
   "source": [
    "import sympy as sp\n",
    "import numpy as np\n",
    "import matplotlib.pyplot as plt\n",
    "import matplotlib.animation as animation\n",
    "\n",
    "import IPython.display"
   ]
  },
  {
   "cell_type": "markdown",
   "source": [
    "# 훅 법칙을 이용한 줄\n"
   ],
   "metadata": {
    "collapsed": false,
    "pycharm": {
     "name": "#%% md\n"
    }
   }
  },
  {
   "cell_type": "code",
   "execution_count": 10,
   "outputs": [],
   "source": [
    "n = 5\n",
    "L = 2\n",
    "\n",
    "k = 50\n",
    "dL = L / (n - 1)\n",
    "dm = 0.1"
   ],
   "metadata": {
    "collapsed": false,
    "pycharm": {
     "name": "#%%\n"
    }
   }
  },
  {
   "cell_type": "code",
   "execution_count": 11,
   "outputs": [],
   "source": [
    "t, dt = np.linspace(0, 2, 20000, retstep=True)\n",
    "\n",
    "pp = np.zeros((2, n, 2))# [now, post]\n",
    "vp = np.zeros((2, n, 2))\n",
    "ap = np.zeros((2, n, 2))\n",
    "\n",
    "pp[0] = np.vstack([np.linspace(0, 2, n), np.linspace(0, 0, n)]).T\n",
    "vp[0] = np.vstack([np.linspace(0, 0, n), np.linspace(0, 0, n)]).T\n",
    "ap[0] = np.vstack([np.linspace(0, 0, n), np.linspace(0, 0, n)]).T\n"
   ],
   "metadata": {
    "collapsed": false,
    "pycharm": {
     "name": "#%%\n"
    }
   }
  },
  {
   "cell_type": "code",
   "execution_count": 12,
   "outputs": [],
   "source": [
    "fig, ax = plt.subplots(figsize=(8, 8))\n",
    "\n",
    "ax.set_xlim(-4, 4)\n",
    "ax.set_ylim(-8, 2)\n",
    "\n",
    "scat = ax.scatter(pp[0][:, 0], pp[1][:, 1], color='red')\n",
    "\n",
    "\n",
    "def animate(frame):\n",
    "    for _ in range(10):\n",
    "        for i in range(1, n - 1):\n",
    "            left_dir = (pp[0][i - 1] - pp[0][i])\n",
    "            right_dir = (pp[0][i + 1] - pp[0][i])\n",
    "\n",
    "            d_left = np.sqrt(np.sum(left_dir ** 2))\n",
    "            d_right = np.sqrt(np.sum(right_dir ** 2))\n",
    "\n",
    "            left_dir = left_dir / d_left\n",
    "            right_dir = right_dir / d_right\n",
    "\n",
    "            F = k * left_dir * (d_left - dL) + k * right_dir * (d_right - dL) + np.array((0, -9.8))\n",
    "            ap[1][i] = F / dm\n",
    "            vp[1][i] = vp[0][i] + dt * ap[1][i]\n",
    "            pp[1][i] = pp[0][i] + dt * vp[1][i]\n",
    "        pp[1, 0] = pp[0, 0]\n",
    "\n",
    "        left_dir = pp[0, -2] - pp[0, -1]\n",
    "        d_left = np.sqrt(np.sum(left_dir ** 2))\n",
    "        left_dir = left_dir / d_left\n",
    "\n",
    "        ap[1, -1] = (k * left_dir * (d_left - dL) + np.array((0, -9.8)))/dm\n",
    "        vp[1, -1] = vp[0, -1] + dt * ap[1, -1]\n",
    "        pp[1, -1] = pp[0, -1] + dt * vp[1, -1]\n",
    "\n",
    "        ap[0] = ap[1]\n",
    "        vp[0] = vp[1]\n",
    "        pp[0] = pp[1]\n",
    "\n",
    "\n",
    "    scat.set_offsets(pp[0])\n",
    "    return scat,\n",
    "\n",
    "\n",
    "anim = animation.FuncAnimation(fig, animate, 2000, interval=10)\n",
    "\n",
    "plt.close()\n",
    "\n",
    "anim.save(\"out/string-hook.mp4\")"
   ],
   "metadata": {
    "collapsed": false,
    "pycharm": {
     "name": "#%%\n"
    }
   }
  },
  {
   "cell_type": "code",
   "execution_count": 12,
   "outputs": [],
   "source": [],
   "metadata": {
    "collapsed": false,
    "pycharm": {
     "name": "#%%\n"
    }
   }
  }
 ],
 "metadata": {
  "kernelspec": {
   "display_name": "Python 3",
   "language": "python",
   "name": "python3"
  },
  "language_info": {
   "codemirror_mode": {
    "name": "ipython",
    "version": 2
   },
   "file_extension": ".py",
   "mimetype": "text/x-python",
   "name": "python",
   "nbconvert_exporter": "python",
   "pygments_lexer": "ipython2",
   "version": "2.7.6"
  }
 },
 "nbformat": 4,
 "nbformat_minor": 0
}