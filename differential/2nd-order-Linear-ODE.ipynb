{
 "cells": [
  {
   "cell_type": "code",
   "execution_count": 11,
   "metadata": {
    "collapsed": true
   },
   "outputs": [],
   "source": [
    "import numpy as np\n",
    "import matplotlib.pyplot as plt\n",
    "\n",
    "plt.rcParams[\"font.family\"] = \"D2Coding\""
   ]
  },
  {
   "cell_type": "markdown",
   "metadata": {
    "pycharm": {
     "name": "#%% md\n"
    }
   },
   "source": [
    "# 이계 제차 선형 상수 계수 상미분 방정식\n",
    "\n",
    "다음 미분 방정식을 생각하자.\n",
    "\n",
    "$$ay''+by'+cy=0$$\n",
    "\n",
    "이 미분 방정식이 $y=e^{rx}$를 해로 가진다 하자.\n",
    "\n",
    "주어진 미분 방정식은 다음과 같이 다시 쓸 수 있다.\n",
    "\n",
    "$$e^{rx}(ar^2+br+\"c)=0$$\n",
    "\n",
    "이것은 이차방정식 $ar^2+br+c=0$을 푸는 것과 동일하다.\n",
    "\n",
    "이 이차방정식을 **특성 방정식**이라 부른다.\n",
    "\n"
   ]
  },
  {
   "cell_type": "markdown",
   "metadata": {
    "pycharm": {
     "name": "#%% md\n"
    }
   },
   "source": [
    "### 스프링 달기\n",
    "\n",
    "스프링에 달려있는 추를 생각해보자. 훅의 법칙에 따라 다음이 성립한다.\n",
    "\n",
    "$$F=-kx$$\n",
    "\n",
    "$$m\\ddot{\\mathbf{x}}=-k\\mathbf{x}$$\n",
    "\n",
    "이는 다음과 같이 정리할 수 있다.\n",
    "\n",
    "$$\\ddot{\\mathbf{x}}+\\frac{k}{m}\\mathbf{x}=0$$\n",
    "\n",
    "이 특성 방정식의 해는 $\\omega = \\sqrt{\\frac{k}{m}}$이라고 할 때, $\\omega i,\\,-\\omega i$이므로 일반해는\n",
    "\n",
    "$$x(t)=(c_1+c_2)\\cos{\\omega t}+(c_1 i - c_2 i)sin(-\\omega t)$$\n",
    "\n",
    "이때, $c_1-c_2=C_1,\\,c_1-c_2i=C_2$라 하면 일반해를 아래와 같이 정리할 수 있다.\n",
    "\n",
    "$$x(t)=A \\sin (\\omega t + \\phi)\\quad(A=\\sqrt{C_1^2+C_2^2},\\,\\sin{\\phi}=\\frac{C_1}{\\sqrt{C_1^2+C_2^2}})$$\n",
    "\n",
    "만약 $x(0)=0$이면 일반해는 다음과 같다.\n",
    "\n",
    "$$x(t) = A\\sin{(\\omega t)}$$"
   ]
  },
  {
   "cell_type": "code",
   "execution_count": 12,
   "metadata": {
    "ExecuteTime": {
     "end_time": "2022-02-01T14:58:15.615435Z",
     "start_time": "2022-02-01T14:58:15.612435Z"
    },
    "pycharm": {
     "name": "#%%\n"
    }
   },
   "outputs": [],
   "source": [
    "\n",
    "k = 10\n",
    "m = 1\n",
    "\n",
    "omega = np.sqrt(k/m)\n",
    "\n",
    "A = 3\n",
    "\n"
   ]
  },
  {
   "cell_type": "code",
   "execution_count": 13,
   "metadata": {
    "ExecuteTime": {
     "end_time": "2022-02-01T14:58:53.305102Z",
     "start_time": "2022-02-01T14:58:53.185085Z"
    }
   },
   "outputs": [
    {
     "data": {
      "text/plain": "<Figure size 432x288 with 1 Axes>",
      "image/png": "[encoded data removed]"
     },
     "metadata": {
      "needs_background": "light"
     },
     "output_type": "display_data"
    }
   ],
   "source": [
    "t = np.linspace(0, 10, 1000)\n",
    "\n",
    "x = A * np.sin(omega*t)\n",
    "\n",
    "plt.plot(t, x, color='red')\n",
    "plt.title(\"ocillator\")\n",
    "\n",
    "plt.show()"
   ]
  },
  {
   "cell_type": "code",
   "execution_count": 5,
   "metadata": {},
   "outputs": [],
   "source": []
  }
 ],
 "metadata": {
  "hide_input": false,
  "kernelspec": {
   "display_name": "Python 3 (ipykernel)",
   "language": "python",
   "name": "python3"
  },
  "language_info": {
   "codemirror_mode": {
    "name": "ipython",
    "version": 3
   },
   "file_extension": ".py",
   "mimetype": "text/x-python",
   "name": "python",
   "nbconvert_exporter": "python",
   "pygments_lexer": "ipython3",
   "version": "3.9.7"
  },
  "toc": {
   "base_numbering": 1,
   "nav_menu": {},
   "number_sections": true,
   "sideBar": true,
   "skip_h1_title": false,
   "title_cell": "Table of Contents",
   "title_sidebar": "Contents",
   "toc_cell": false,
   "toc_position": {},
   "toc_section_display": true,
   "toc_window_display": false
  },
  "varInspector": {
   "cols": {
    "lenName": 16,
    "lenType": 16,
    "lenVar": 40
   },
   "kernels_config": {
    "python": {
     "delete_cmd_postfix": "",
     "delete_cmd_prefix": "del ",
     "library": "var_list.py",
     "varRefreshCmd": "print(var_dic_list())"
    },
    "r": {
     "delete_cmd_postfix": ") ",
     "delete_cmd_prefix": "rm(",
     "library": "var_list.r",
     "varRefreshCmd": "cat(var_dic_list()) "
    }
   },
   "types_to_exclude": [
    "module",
    "function",
    "builtin_function_or_method",
    "instance",
    "_Feature"
   ],
   "window_display": false
  }
 },
 "nbformat": 4,
 "nbformat_minor": 1
}