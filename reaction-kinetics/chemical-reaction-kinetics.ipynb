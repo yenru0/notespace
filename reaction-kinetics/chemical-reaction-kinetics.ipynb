{
 "cells": [
  {
   "cell_type": "code",
   "execution_count": 1,
   "id": "4da32ccb",
   "metadata": {
    "ExecuteTime": {
     "end_time": "2021-12-22T20:08:27.080228Z",
     "start_time": "2021-12-22T20:08:26.539799Z"
    },
    "slideshow": {
     "slide_type": "skip"
    }
   },
   "outputs": [],
   "source": [
    "import numpy as np\n",
    "import matplotlib.pyplot as plt\n",
    "import matplotlib as mpl\n",
    "import scipy.integrate as integrate"
   ]
  },
  {
   "cell_type": "markdown",
   "id": "6d19889d",
   "metadata": {
    "slideshow": {
     "slide_type": "slide"
    }
   },
   "source": [
    "# 반응속도론(reaction-kinetics)\n",
    "\n",
    "동적평형 그래프를 재현하기 위해서 간단하게 화학반응의 속도가 일정하거나(상수), 양에 비례하게 가정했었다.\n",
    "\n",
    "화학반응속도론은 이런 가정에 더 정확한 이론적 바탕을 제공한다."
   ]
  },
  {
   "cell_type": "markdown",
   "id": "291aab81",
   "metadata": {
    "slideshow": {
     "slide_type": "slide"
    }
   },
   "source": [
    "## 반응 속도(reaction rate)에 대한 정의\n",
    "\n",
    "> 단위 시간당 반응물 또는 생성물의 농도 변화\n",
    "\n",
    "$$\\text{A}\\longrightarrow\\text{B}$$\n",
    "\n",
    "* 반응물($\\text{A}$) 기준: $\\text{A}$가 감소하는 속도\n",
    "\n",
    "$$v=-\\frac{\\Delta[\\text{A}]}{\\Delta t}$$\n",
    "\n",
    "* 생성물($\\text{B}$) 기준: $\\text{B}$가 증가하는 속도\n",
    "\n",
    "$$v=\\frac{\\Delta [B]}{\\Delta t}$$"
   ]
  },
  {
   "cell_type": "markdown",
   "id": "84d1a7b5",
   "metadata": {
    "slideshow": {
     "slide_type": "slide"
    }
   },
   "source": [
    "## 반응식의 계수와 속도의 관계\n",
    "\n",
    "$$2\\text{A}\\longrightarrow \\text{B}$$\n",
    "\n",
    "이때 속도는 $$v=-\\frac 1 2 \\frac{\\Delta [A]}{\\Delta t}=\\frac{\\Delta [B]}{\\Delta t}$$\n",
    "\n",
    "\n",
    "일반적으로,\n",
    "\n",
    "$$a\\text{A}+b\\text{B}\\longrightarrow c\\text{C}+d\\text{D}$$\n",
    "\n",
    "일때, \n",
    "\n",
    "속도 $v$는 다음과 같다.\n",
    "\n",
    "$$v=-\\frac 1 a \\frac{\\Delta [A]}{\\Delta t} = -\\frac 1 b \\frac{\\Delta [B]}{\\Delta t}=\\frac 1 c \\frac{\\Delta [C]}{\\Delta t}=\\frac 1 d \\frac{\\Delta [D]}{\\Delta t}$$"
   ]
  },
  {
   "cell_type": "markdown",
   "id": "3db7dbcb",
   "metadata": {
    "slideshow": {
     "slide_type": "slide"
    }
   },
   "source": [
    "## 속도 법칙\n",
    "\n",
    "반응 속도를 속도 상수($k$)와 반응물들의 농도의 지수로 표시한다.\n",
    "\n",
    "$$a\\text{A}+b\\text{B}\\longrightarrow c\\text{C}+d\\text{D}$$\n",
    "\n",
    "에서 속도 $v$를 다음과 같이 쓰는 것이다.\n",
    "\n",
    "$$v=k[\\text{A}]^x[\\text{B}]^y$$\n",
    "\n",
    "이때, $x$와 $y$를 반응 차수라 하고 $x+y$를 전체 반응 차수라 한다."
   ]
  },
  {
   "cell_type": "markdown",
   "id": "575f2bc2",
   "metadata": {
    "slideshow": {
     "slide_type": "slide"
    }
   },
   "source": [
    "### Example 1-1\n",
    "\n",
    "$$2\\text{A}\\longrightarrow\\text{B}$$\n",
    "\n",
    "\n",
    "* 속도조건, $v=0.1[\\text{A}]^1=-\\frac 1 2 \\frac{\\Delta [\\text{A}]}{\\Delta t}= \\frac{\\Delta[\\text{B}]}{\\Delta t}$\n",
    "* 초기조건, $[\\text{A}]=1$\n"
   ]
  },
  {
   "cell_type": "code",
   "execution_count": 2,
   "id": "ce8ab8c1",
   "metadata": {
    "ExecuteTime": {
     "end_time": "2021-12-22T20:08:27.237756Z",
     "start_time": "2021-12-22T20:08:27.081209Z"
    },
    "slideshow": {
     "slide_type": "skip"
    }
   },
   "outputs": [],
   "source": [
    "t, dt = np.linspace(0, 100, 100000, retstep=True)\n",
    "\n",
    "A = np.zeros_like(t)\n",
    "B = np.zeros_like(t)\n",
    "v = np.zeros_like(t)\n",
    "\n",
    "k = 0.1\n",
    "\n",
    "A[0] = 1\n",
    "B[0] = 0\n",
    "v[0] = k*A[0]\n",
    "\n",
    "for i in range(len(t)-1):\n",
    "    A[i+1] = A[i] - 2 * dt*v[i]\n",
    "    B[i+1] = B[i] + 1 * dt*v[i]\n",
    "    v[i+1] = k*A[i]\n"
   ]
  },
  {
   "cell_type": "code",
   "execution_count": 3,
   "id": "6e3c789e",
   "metadata": {
    "ExecuteTime": {
     "end_time": "2021-12-22T20:08:27.418896Z",
     "start_time": "2021-12-22T20:08:27.237756Z"
    },
    "slideshow": {
     "slide_type": "slide"
    }
   },
   "outputs": [
    {
     "data": {
      "image/png": "[encoded data removed]",
      "text/plain": [
       "<Figure size 504x288 with 1 Axes>"
      ]
     },
     "metadata": {
      "needs_background": "light"
     },
     "output_type": "display_data"
    }
   ],
   "source": [
    "fig, ax = plt.subplots(figsize=(7, 4))\n",
    "\n",
    "ax.plot(t, A, label=\"A\")\n",
    "ax.plot(t, B, label=\"B\")\n",
    "\n",
    "ax.legend()\n",
    "\n",
    "plt.show()"
   ]
  },
  {
   "cell_type": "markdown",
   "id": "0c44e47e",
   "metadata": {
    "slideshow": {
     "slide_type": "slide"
    }
   },
   "source": [
    "## 차수에 따른 분류\n",
    "\n",
    "* 영차 반응(zero-order reactions)\n",
    "\n",
    "* 일차 반응(first-order reactions)\n",
    "\n",
    "* 이차 반응(second-order reactions)\n",
    "\n",
    "+ 유사 n차 반응(pseudo nth reactions): 반응물 중 하나에 비해 다른 반응물이 **과량**일 경우에만 반응"
   ]
  },
  {
   "cell_type": "markdown",
   "id": "be999b0b",
   "metadata": {
    "slideshow": {
     "slide_type": "slide"
    }
   },
   "source": [
    "### E 2-1: 차수에 따른 변화\n",
    "\n",
    "$$\\text{A}\\longrightarrow\\text{B}$$\n",
    "\n",
    "* $k=0.1$\n",
    "* $v=k[\\text{A}]^x$"
   ]
  },
  {
   "cell_type": "code",
   "execution_count": 4,
   "id": "291d5adb",
   "metadata": {
    "ExecuteTime": {
     "end_time": "2021-12-22T20:08:27.423898Z",
     "start_time": "2021-12-22T20:08:27.419897Z"
    },
    "slideshow": {
     "slide_type": "skip"
    }
   },
   "outputs": [],
   "source": [
    "t, dt = np.linspace(0, 100, 100000, retstep=True)\n",
    "\n",
    "A = np.zeros((3, len(t)))\n",
    "B = np.zeros((3, len(t)))\n",
    "v = np.zeros((3, len(t)))\n",
    "\n",
    "k = 0.1\n",
    "\n",
    "A[:, 0] = 1\n",
    "B[:, 0] = 0"
   ]
  },
  {
   "cell_type": "code",
   "execution_count": 5,
   "id": "b5815d5a",
   "metadata": {
    "ExecuteTime": {
     "end_time": "2021-12-22T20:08:28.141982Z",
     "start_time": "2021-12-22T20:08:27.424898Z"
    },
    "slideshow": {
     "slide_type": "skip"
    }
   },
   "outputs": [],
   "source": [
    "v[0][0] = k\n",
    "v[1][0] = k*A[1][0]\n",
    "v[2][0] = k*A[2][0]**2\n",
    "\n",
    "\n",
    "for i in range(len(t)-1):\n",
    "    A[0][i+1] = A[0][i] - dt * v[0][i]\n",
    "    B[0][i+1] = B[0][i] + dt * v[0][i]\n",
    "    if 0.001 > A[0][i] > 0:\n",
    "        v[0][i+1] = 0\n",
    "    else:\n",
    "        v[0][i+1] = k\n",
    "    \n",
    "    A[1][i+1] = A[1][i] - dt * v[1][i]\n",
    "    B[1][i+1] = B[1][i] + dt * v[1][i]\n",
    "    v[1][i+1] = k*A[1][i]\n",
    "    \n",
    "    A[2][i+1] = A[2][i] - dt * v[2][i]\n",
    "    B[2][i+1] = B[2][i] + dt * v[2][i]\n",
    "    v[2][i+1] = k*A[2][i]**2"
   ]
  },
  {
   "cell_type": "code",
   "execution_count": 6,
   "id": "3e351187",
   "metadata": {
    "ExecuteTime": {
     "end_time": "2021-12-22T20:08:28.356014Z",
     "start_time": "2021-12-22T20:08:28.142982Z"
    },
    "slideshow": {
     "slide_type": "slide"
    }
   },
   "outputs": [
    {
     "data": {
      "image/png": "[encoded data removed]",
      "text/plain": [
       "<Figure size 504x288 with 1 Axes>"
      ]
     },
     "metadata": {
      "needs_background": "light"
     },
     "output_type": "display_data"
    }
   ],
   "source": [
    "fig, ax = plt.subplots(figsize=(7, 4))\n",
    "\n",
    "ax.plot(t, A[0], label='zero-order')\n",
    "ax.plot(t, A[1], label='first-order')\n",
    "ax.plot(t, A[2], label='second-order')\n",
    "\n",
    "\n",
    "ax.set_ylabel(\"[A]\")\n",
    "ax.set_xlabel(\"time\")\n",
    "ax.legend()\n",
    "\n",
    "plt.show()"
   ]
  },
  {
   "cell_type": "markdown",
   "id": "26743248",
   "metadata": {
    "slideshow": {
     "slide_type": "slide"
    }
   },
   "source": [
    "## 반응의 일반해"
   ]
  },
  {
   "cell_type": "markdown",
   "id": "30f6e1c6",
   "metadata": {
    "slideshow": {
     "slide_type": "slide"
    }
   },
   "source": [
    "### 0차 반응\n",
    "\n",
    "$$-\\frac{d[\\text{A}]}{dt}=k$$\n",
    "$$\\int \\frac{[\\text{A}]}{dt}dt=-\\int k dt$$\n",
    "\n",
    "---\n",
    " $$[\\text{A}]=-kt+[\\text{A}]_0$$"
   ]
  },
  {
   "cell_type": "markdown",
   "id": "095967fe",
   "metadata": {
    "slideshow": {
     "slide_type": "slide"
    }
   },
   "source": [
    "### 1차 반응\n",
    "\n",
    "$$-\\frac{d[\\text{A}]}{dt}=ka$$\n",
    "\n",
    "$$-\\frac{[\\text{A}]'}{[\\text{A}]}=k$$\n",
    "\n",
    "$$\\int \\frac{[\\text{A}]'}{[\\text{A}]}dt=-\\int k dt$$\n",
    "\n",
    "$$\\ln{[\\text{A}]}=-kt+C$$\n",
    "\n",
    "---\n",
    "\n",
    "$$[\\text{A}]=e^{-kt+\\ln{[\\text{A}]_0}}$$"
   ]
  },
  {
   "cell_type": "markdown",
   "id": "37f47ea0",
   "metadata": {
    "slideshow": {
     "slide_type": "slide"
    }
   },
   "source": [
    "### 2차 반응\n",
    "\n",
    "$$-\\frac{d[\\text{A}]}{dt}=k[\\text{A}]^2$$\n",
    "\n",
    "$$\\int \\frac{[\\text{A}]'}{[\\text{A}]^2}dt=\\int -k dt$$\n",
    "\n",
    "$$-\\frac{1}{[\\text{A}]} = -kt - C$$\n",
    "\n",
    "---\n",
    "\n",
    "$$[\\text{A}]=\\frac{1}{kt+\\frac{1}{[\\text{A}]_0}}$$"
   ]
  },
  {
   "cell_type": "markdown",
   "id": "e9f7c440",
   "metadata": {
    "slideshow": {
     "slide_type": "slide"
    }
   },
   "source": [
    "## 반응의 반감기\n",
    "\n",
    "* 0차 반응의 경우 $$t_{1/2}=\\frac{[\\text{A}]_0}{2k}$$\n",
    "* 1차 반응의 경우 $$t_{1/2}=\\frac{\\ln{2}}{k}$$\n",
    "* 2차 반응의 경우 $$t_{1/2}=\\frac{1}{k[\\text{A}]}$$"
   ]
  },
  {
   "cell_type": "code",
   "execution_count": 7,
   "id": "624fc6b6",
   "metadata": {
    "ExecuteTime": {
     "end_time": "2021-12-22T20:08:28.365017Z",
     "start_time": "2021-12-22T20:08:28.357014Z"
    },
    "slideshow": {
     "slide_type": "slide"
    }
   },
   "outputs": [
    {
     "name": "stdout",
     "output_type": "stream",
     "text": [
      "0차 반응, 수치값: 5.000, 해석적값: 5.000\n",
      "1차 반응, 수치값: 6.931, 해석적값: 6.931\n",
      "2차 반응, 수치값: 9.998, 해석적값: 10.000\n"
     ]
    }
   ],
   "source": [
    "for i in range(3):\n",
    "    for j, a in enumerate(A[i]):\n",
    "        if a < 1/2:\n",
    "            print(f\"{i}차 반응, 수치값: {t[j]:.3f}\", end=', 해석적값: ')\n",
    "            if i == 0:\n",
    "                print(f\"{1/(2*k):.3f}\")\n",
    "            elif i == 1:\n",
    "                print(f\"{np.log(2)/k:.3f}\")\n",
    "            elif i == 2:\n",
    "                print(f\"{1/k:.3f}\")\n",
    "            break"
   ]
  },
  {
   "cell_type": "markdown",
   "id": "bcc1a844",
   "metadata": {
    "slideshow": {
     "slide_type": "slide"
    }
   },
   "source": [
    "## 반응 속도에 영향을 미치는 요인\n",
    "\n",
    "* 반응물질의 특성\n",
    "\n",
    "* 물리적 상태\n",
    "\n",
    "* 고체의 표면적(고체에서 표면에 있는 입자만이 반응에 관여할 수 있기 때문)\n",
    "\n",
    "* **농도**\n",
    "\n",
    "* **온도**\n",
    "\n",
    "* 촉매\n",
    "\n",
    "* 압력\n",
    "\n",
    "* ..."
   ]
  },
  {
   "cell_type": "markdown",
   "id": "9e38bdd1",
   "metadata": {
    "slideshow": {
     "slide_type": "slide"
    }
   },
   "source": [
    "# 충돌 이론\n",
    "\n",
    "반응이 일어나기 위해서는 **분자는 충돌**해야하고, **충분한 에너지**를 가지고 있는 상태이어야 한다. 이때 반응이 일어나기 위한 최소한의 에너지를 **활성화 에너지(activation energy)**라 한다.\n",
    "\n",
    "\n",
    "$$r(T)=Z \\rho \\exp \\left( \\frac{-E_\\text{a}}{RT} \\right)$$"
   ]
  },
  {
   "cell_type": "markdown",
   "id": "aa639bdc",
   "metadata": {
    "slideshow": {
     "slide_type": "slide"
    }
   },
   "source": [
    "### 충돌수\n",
    "\n",
    "대부분의 반응에서 온도가 올라갈수록 대부분의 반응 속도는 빨라진다.\n",
    "\n",
    "이유는 반응 속도는 충돌수와 비례하는데 온도가 증가함에 따라 분자 운동 속도가 증가하고 분자간 충돌 빈도가 증가하여 반응 속도가 증가하기 때문이다."
   ]
  },
  {
   "cell_type": "markdown",
   "id": "b1cbab89",
   "metadata": {
    "slideshow": {
     "slide_type": "slide"
    }
   },
   "source": [
    "### 활성화 에너지\n",
    "\n",
    "온도에 따른 속도에 의해서만 반응이 일어나지 않는다. 충돌 시의 분자의 운동에너지가 부족하면 반응이 일어나지 않는다.\n",
    "\n",
    "기체 분자의 운동에너지는 온도가 높을수록 높을 확률이 높다. 이는 맥스웰-볼츠만 분포로 확인할 수 있다."
   ]
  },
  {
   "cell_type": "code",
   "execution_count": 8,
   "id": "dc1448ac",
   "metadata": {
    "ExecuteTime": {
     "end_time": "2021-12-22T20:08:28.482487Z",
     "start_time": "2021-12-22T20:08:28.365679Z"
    },
    "slideshow": {
     "slide_type": "slide"
    }
   },
   "outputs": [
    {
     "data": {
      "image/png": "[encoded data removed]",
      "text/plain": [
       "<Figure size 576x360 with 1 Axes>"
      ]
     },
     "metadata": {
      "needs_background": "light"
     },
     "output_type": "display_data"
    }
   ],
   "source": [
    "fig, ax = plt.subplots(figsize=(8, 5))\n",
    "\n",
    "v = np.linspace(0, 1200, 10000, dtype=np.float64)\n",
    "\n",
    "kB = 1.3806488 * 10**(-23)\n",
    "m = 127*1.66053904*10**(-27)\n",
    "\n",
    "T1 = 400\n",
    "T2 = 700\n",
    "T3 = 1000\n",
    "\n",
    "\n",
    "def maxwellboltzman(T):\n",
    "    return lambda v: 4*np.pi*(m/(2*np.pi*kB*T))**(3/2)*v**2*np.exp((-m*v**2)/(2*kB*T))\n",
    "\n",
    "mbd1 = maxwellboltzman(T1)\n",
    "mbd2 = maxwellboltzman(T2)\n",
    "mbd3 = maxwellboltzman(T3)\n",
    "\n",
    "ax.plot(v, mbd1(v), label=f'T={T1}')\n",
    "ax.plot(v, mbd2(v), label=f'T={T2}')\n",
    "ax.plot(v, mbd3(v), label=f'T={T3}')\n",
    "\n",
    "ax.vlines(400, -1, 1, color='red', label='Ea')\n",
    "ax.set_ylim(0-0.0001, 0.0038)\n",
    "\n",
    "ax.legend()\n",
    "\n",
    "plt.show()"
   ]
  },
  {
   "cell_type": "code",
   "execution_count": 9,
   "id": "ad2a9bf7",
   "metadata": {
    "ExecuteTime": {
     "end_time": "2021-12-22T20:08:28.487083Z",
     "start_time": "2021-12-22T20:08:28.483486Z"
    },
    "slideshow": {
     "slide_type": "slide"
    }
   },
   "outputs": [
    {
     "name": "stdout",
     "output_type": "stream",
     "text": [
      "T= 400, 0.10639\n",
      "T= 700, 0.32182\n",
      "T=1000, 0.48391\n"
     ]
    }
   ],
   "source": [
    "print(f\"T= 400, {integrate.quad(mbd1, 400, 1000)[0]:.5f}\")\n",
    "print(f\"T= 700, {integrate.quad(mbd2, 400, 1000)[0]:.5f}\")\n",
    "print(f\"T=1000, {integrate.quad(mbd3, 400, 1000)[0]:.5f}\")"
   ]
  },
  {
   "cell_type": "markdown",
   "id": "f7dd2ac0",
   "metadata": {
    "slideshow": {
     "slide_type": "slide"
    }
   },
   "source": [
    "## 아레니우스 식\n",
    "\n",
    "속도상수 $k$의 온도 $T$에 대한 의존성을 나타낸 식\n",
    "\n",
    "$$k=A\\exp{\\left(-\\frac{E_a}{RT}\\right)}$$\n",
    "\n",
    "($A$는 충돌 빈도, $R$은 기체상수, $E_a$는 활성화 에너지)"
   ]
  },
  {
   "cell_type": "code",
   "execution_count": 11,
   "id": "013d9d61",
   "metadata": {
    "ExecuteTime": {
     "end_time": "2021-12-22T20:08:35.557902Z",
     "start_time": "2021-12-22T20:08:35.517889Z"
    },
    "slideshow": {
     "slide_type": "slide"
    }
   },
   "outputs": [
    {
     "data": {
      "image/png": "[encoded data removed]",
      "text/plain": [
       "<Figure size 504x504 with 1 Axes>"
      ]
     },
     "metadata": {},
     "output_type": "display_data"
    }
   ],
   "source": [
    "fig, ax = plt.subplots(figsize=(7, 7))\n",
    "\n",
    "T = np.linspace(400, 800)\n",
    "R = 8.314\n",
    "A = 100\n",
    "\n",
    "ax.plot(T, A*np.exp(-100000/(R*T)), color='red')\n",
    "ax.set_xlabel(\"T\")\n",
    "ax.set_ylabel(\"k\")\n",
    "ax.set_xticks([])\n",
    "ax.set_yticks([])\n",
    "\n",
    "plt.show()"
   ]
  },
  {
   "cell_type": "markdown",
   "id": "d7872c7a",
   "metadata": {
    "slideshow": {
     "slide_type": "slide"
    }
   },
   "source": [
    "이에 더해 반응은 적절한 분자 배향을 가지고 충돌해야 한다. 따라서 배향인자 $p$를 고려해야 한다.\n",
    "\n",
    "$$k=p A\\exp{\\left(-\\frac{E_a}{RT}\\right)}$$"
   ]
  }
 ],
 "metadata": {
  "celltoolbar": "Slideshow",
  "hide_input": false,
  "kernelspec": {
   "display_name": "Python 3 (ipykernel)",
   "language": "python",
   "name": "python3"
  },
  "language_info": {
   "codemirror_mode": {
    "name": "ipython",
    "version": 3
   },
   "file_extension": ".py",
   "mimetype": "text/x-python",
   "name": "python",
   "nbconvert_exporter": "python",
   "pygments_lexer": "ipython3",
   "version": "3.9.7"
  },
  "toc": {
   "base_numbering": 1,
   "nav_menu": {},
   "number_sections": true,
   "sideBar": true,
   "skip_h1_title": false,
   "title_cell": "Table of Contents",
   "title_sidebar": "Contents",
   "toc_cell": false,
   "toc_position": {},
   "toc_section_display": true,
   "toc_window_display": false
  },
  "varInspector": {
   "cols": {
    "lenName": 16,
    "lenType": 16,
    "lenVar": 40
   },
   "kernels_config": {
    "python": {
     "delete_cmd_postfix": "",
     "delete_cmd_prefix": "del ",
     "library": "var_list.py",
     "varRefreshCmd": "print(var_dic_list())"
    },
    "r": {
     "delete_cmd_postfix": ") ",
     "delete_cmd_prefix": "rm(",
     "library": "var_list.r",
     "varRefreshCmd": "cat(var_dic_list()) "
    }
   },
   "types_to_exclude": [
    "module",
    "function",
    "builtin_function_or_method",
    "instance",
    "_Feature"
   ],
   "window_display": false
  }
 },
 "nbformat": 4,
 "nbformat_minor": 5
}
