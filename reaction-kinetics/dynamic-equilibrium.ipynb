{
 "cells": [
  {
   "cell_type": "code",
   "execution_count": 1,
   "id": "4e0d8823",
   "metadata": {
    "ExecuteTime": {
     "end_time": "2021-12-15T09:46:24.873029Z",
     "start_time": "2021-12-15T09:46:24.509036Z"
    },
    "slideshow": {
     "slide_type": "skip"
    }
   },
   "outputs": [],
   "source": [
    "import numpy as np\n",
    "import matplotlib.pyplot as plt"
   ]
  },
  {
   "cell_type": "markdown",
   "id": "7f7fa5e2",
   "metadata": {
    "ExecuteTime": {
     "end_time": "2021-10-19T08:07:43.812440Z",
     "start_time": "2021-10-19T08:07:43.698423Z"
    },
    "slideshow": {
     "slide_type": "slide"
    }
   },
   "source": [
    "# 동적 평형(dynamic equilibrium)"
   ]
  },
  {
   "cell_type": "markdown",
   "id": "91575606",
   "metadata": {
    "slideshow": {
     "slide_type": "slide"
    }
   },
   "source": [
    "동적 평형은 가역반응에서 정반응과 역반응의 반응 속도가 같아져 계속 반응하고 있으나 반응이 정지한 것처럼 보이는 상태이다.\n",
    "\n",
    "이 동적평형의 대표적 예는 다음이 있다.\n",
    "\n",
    "* 상평형(phase equilibrium)\n",
    "* 용해평형(solubility equilibrium)\n",
    "* 화학평형(chemical equilibrium)\n",
    "* ..."
   ]
  },
  {
   "cell_type": "markdown",
   "id": "35595dd1",
   "metadata": {
    "slideshow": {
     "slide_type": "slide"
    }
   },
   "source": [
    "간단한 동적평형의 경우 쉽게 연립 상미분 방정식을 세울 수 있고 그 해또한 쉽게 구할 수 있는데 이를 보고자 한다."
   ]
  },
  {
   "cell_type": "markdown",
   "id": "76fd450f",
   "metadata": {
    "slideshow": {
     "slide_type": "slide"
    }
   },
   "source": [
    "# 상평형"
   ]
  },
  {
   "cell_type": "markdown",
   "id": "bbdc7413",
   "metadata": {
    "slideshow": {
     "slide_type": "slide"
    }
   },
   "source": [
    "## 구성 조건\n",
    "\n",
    "* $\\text{X}\\text{(l)}\\longleftrightarrow\\text{X}\\text{(g)}$는 가역반응이다.\n",
    "\n",
    "* $x,\\,y$는 각각 $\\text{X(l)},\\,\\text{X(g)}$의 양을 의미한다.\n",
    "\n",
    "* $\\text{X(l)}\\longrightarrow \\text{X(g)}$(증발, evaporation)의 속도, $v_e$는 온도와 여러 변수가 혼재된 변수 $T$에 따라 변하며 $T$가 일정하면 정반응 속도도 항상 일정하다. 구체적으로 $v_e=T$\n",
    "\n",
    "* $\\text{X(l)}\\longleftarrow\\text{X(g)}$(응축, condensation)의 속도, $v_c$는 일정하지 않고 변하며, 정반응 속도에 시간이 지날수록 수렴한다.\n",
    "구체적으로 역반응 속도, $v_c$는 임의의 상수 $k$에 대하여 $v_c=ky$를 만족한다.\n",
    "\n",
    "* $x$, $y$는 다음 식을 만족한다.\n",
    "$$\\begin{cases}\\displaystyle\\frac{dx}{dt}&=v_c-v_e&=ky-T\\\\\\displaystyle\\frac{dy}{dt}&=v_e-v_c&=T-ky\\end{cases}$$"
   ]
  },
  {
   "cell_type": "markdown",
   "id": "aadc7bd4",
   "metadata": {
    "slideshow": {
     "slide_type": "slide"
    }
   },
   "source": [
    "## 상평형 예제 1\n",
    "\n",
    "* 초기조건\n",
    "    + $\\text{X(l)}: 100$\n",
    "    + $\\text{X(g)}: 0$\n",
    "    + $T=1$\n",
    "    + $k=0.05$"
   ]
  },
  {
   "cell_type": "code",
   "execution_count": 2,
   "id": "0028c25f",
   "metadata": {
    "ExecuteTime": {
     "end_time": "2021-12-15T09:46:25.050045Z",
     "start_time": "2021-12-15T09:46:24.874320Z"
    },
    "slideshow": {
     "slide_type": "skip"
    }
   },
   "outputs": [],
   "source": [
    "t, dt = np.linspace(0, 100, 100000, retstep= True)\n",
    "x = np.zeros_like(t) # liquid\n",
    "y = np.zeros_like(t) # gas\n",
    "v_c = np.zeros_like(t) # condensation speed\n",
    "v_e = np.zeros_like(t) # evaporation speed\n",
    "\n",
    "T = 1 # evaporation constant \n",
    "k = 0.05 # condensation constant\n",
    "\n",
    "# initial value\n",
    "x[0] = 100\n",
    "y[0] = 0\n",
    "v_c[0] = 0\n",
    "v_e[0] = T\n",
    "\n",
    "for i in range(len(t)-1):\n",
    "    x[i+1] = x[i] + dt * (v_c[i] - v_e[i])\n",
    "    y[i+1] = y[i] + dt * (v_e[i] - v_c[i])\n",
    "    v_e[i+1] = T\n",
    "    v_c[i+1] = k * y[i+1]\n"
   ]
  },
  {
   "cell_type": "code",
   "execution_count": 3,
   "id": "26df7565",
   "metadata": {
    "ExecuteTime": {
     "end_time": "2021-12-15T09:46:25.566108Z",
     "start_time": "2021-12-15T09:46:25.051045Z"
    },
    "slideshow": {
     "slide_type": "slide"
    }
   },
   "outputs": [
    {
     "data": {
      "image/png": "[encoded data removed]",
      "text/plain": [
       "<Figure size 1008x360 with 2 Axes>"
      ]
     },
     "metadata": {
      "needs_background": "light"
     },
     "output_type": "display_data"
    }
   ],
   "source": [
    "fig, ax = plt.subplots(1,2, figsize=(14, 5))\n",
    "\n",
    "fig.suptitle(\"Example 1\")\n",
    "\n",
    "ax[0].plot(t, y, label=r\"gas\", color='red')\n",
    "ax[0].plot(t, x, label=r\"liquid\", color='blue')\n",
    "ax[0].set_xlabel(\"time\")\n",
    "ax[0].set_ylabel(\"amount\")\n",
    "ax[0].set_ylim((0, 100+5))\n",
    "\n",
    "ax[1].plot(t, v_e, label='evaporation', color='orangered')\n",
    "ax[1].plot(t, v_c, label='condensation', color='purple')\n",
    "ax[1].set_xlabel(\"time\")\n",
    "ax[1].set_ylabel(\"reaction rate\")\n",
    "ax[1].set_ylim((0, 1+0.05))\n",
    "\n",
    "ax[0].text(60, 0.98*100, f\"T={T}\", size=12)\n",
    "ax[0].text(60, 0.92*100, f\"k={k}\", size=12)\n",
    "\n",
    "ax[1].legend()\n",
    "ax[0].legend()\n",
    "\n",
    "plt.show()"
   ]
  },
  {
   "cell_type": "code",
   "execution_count": 4,
   "id": "f691ea73",
   "metadata": {
    "ExecuteTime": {
     "end_time": "2021-12-15T09:46:25.571108Z",
     "start_time": "2021-12-15T09:46:25.567108Z"
    },
    "slideshow": {
     "slide_type": "slide"
    }
   },
   "outputs": [
    {
     "name": "stdout",
     "output_type": "stream",
     "text": [
      "초기 물질량: 100.00000, 0.00000 => 100.00000\n",
      "최종 물질량: 80.13474, 19.86526 => 100.00000\n"
     ]
    }
   ],
   "source": [
    "print(f\"초기 물질량: {x[0]:.5f}, {y[0]:.5f} => {x[0]+y[0]:.5f}\")\n",
    "print(f\"최종 물질량: {x[-1]:.5f}, {y[-1]:.5f} => {x[-1]+y[-1]:.5f}\")"
   ]
  },
  {
   "cell_type": "markdown",
   "id": "87429655",
   "metadata": {
    "slideshow": {
     "slide_type": "slide"
    }
   },
   "source": [
    "## 상평형 예제 2\n",
    "* 초기조건\n",
    "    + $\\text{X(l)}: 100$\n",
    "    + $\\text{X(g)}: 0$\n",
    "    + $T=1.5$\n",
    "    + $k=0.025$"
   ]
  },
  {
   "cell_type": "code",
   "execution_count": 5,
   "id": "aeb0f82a",
   "metadata": {
    "ExecuteTime": {
     "end_time": "2021-12-15T09:46:25.921144Z",
     "start_time": "2021-12-15T09:46:25.572109Z"
    },
    "slideshow": {
     "slide_type": "skip"
    }
   },
   "outputs": [],
   "source": [
    "t, dt = np.linspace(0, 200, 200000, retstep= True)\n",
    "x = np.zeros_like(t)\n",
    "y = np.zeros_like(t)\n",
    "v_c = np.zeros_like(t)\n",
    "v_e = np.zeros_like(t)\n",
    "\n",
    "T = 1.5\n",
    "k = 0.025\n",
    "\n",
    "x[0] = 100\n",
    "y[0] = 0\n",
    "v_c[0] = 0\n",
    "v_e[0] = T\n",
    "\n",
    "for i in range(len(t)-1):\n",
    "    x[i+1] = x[i] + dt * (v_c[i] - v_e[i])\n",
    "    y[i+1] = y[i] + dt * (v_e[i] - v_c[i])\n",
    "    v_e[i+1] = T\n",
    "    v_c[i+1] = k * y[i+1]\n"
   ]
  },
  {
   "cell_type": "code",
   "execution_count": 6,
   "id": "6204e2a6",
   "metadata": {
    "ExecuteTime": {
     "end_time": "2021-12-15T09:46:26.726714Z",
     "start_time": "2021-12-15T09:46:25.923145Z"
    },
    "slideshow": {
     "slide_type": "slide"
    }
   },
   "outputs": [
    {
     "data": {
      "image/png": "[encoded data removed]",
      "text/plain": [
       "<Figure size 1008x360 with 2 Axes>"
      ]
     },
     "metadata": {
      "needs_background": "light"
     },
     "output_type": "display_data"
    }
   ],
   "source": [
    "fig, ax = plt.subplots(1,2, figsize=(14, 5))\n",
    "\n",
    "fig.suptitle(\"Example 2\")\n",
    "\n",
    "ax[0].plot(t, y, label=r\"gas\", color='red')\n",
    "ax[0].plot(t, x, label=r\"liquid\", color='blue')\n",
    "ax[0].set_xlabel(\"time\")\n",
    "ax[0].set_ylabel(\"amount\")\n",
    "ax[0].set_ylim((0, 100+5))\n",
    "\n",
    "ax[1].plot(t, v_e, label='evaporation', color='orangered')\n",
    "ax[1].plot(t, v_c, label='condensation', color='purple')\n",
    "ax[1].set_xlabel(\"time\")\n",
    "ax[1].set_ylabel(\"reaction rate\")\n",
    "ax[1].set_ylim((0, 1.5+0.05))\n",
    "\n",
    "ax[0].text(120, 0.98*100, f\"T={T}\", size=12)\n",
    "ax[0].text(120, 0.92*100, f\"k={k}\", size=12)\n",
    "\n",
    "ax[1].legend()\n",
    "ax[0].legend()\n",
    "\n",
    "plt.show()"
   ]
  },
  {
   "cell_type": "code",
   "execution_count": 7,
   "id": "71b4dc94",
   "metadata": {
    "ExecuteTime": {
     "end_time": "2021-12-15T09:46:26.730715Z",
     "start_time": "2021-12-15T09:46:26.727715Z"
    },
    "slideshow": {
     "slide_type": "slide"
    }
   },
   "outputs": [
    {
     "name": "stdout",
     "output_type": "stream",
     "text": [
      "초기 물질량: 100.00000, 0.00000 => 100.00000\n",
      "최종 물질량: 40.40425, 59.59575 => 100.00000\n"
     ]
    }
   ],
   "source": [
    "print(f\"초기 물질량: {x[0]:.5f}, {y[0]:.5f} => {x[0]+y[0]:.5f}\")\n",
    "print(f\"최종 물질량: {x[-1]:.5f}, {y[-1]:.5f} => {x[-1]+y[-1]:.5f}\")"
   ]
  },
  {
   "cell_type": "markdown",
   "id": "24d11c54",
   "metadata": {
    "slideshow": {
     "slide_type": "slide"
    }
   },
   "source": [
    "## 상평형 잘못된 예제\n",
    "\n",
    "* 초기조건\n",
    "    + $\\text{X(l)}: 100$\n",
    "    + $\\text{X(g)}: 0$\n",
    "    + $T=2$\n",
    "    + $k=0.015$"
   ]
  },
  {
   "cell_type": "code",
   "execution_count": 8,
   "id": "b8930c5b",
   "metadata": {
    "ExecuteTime": {
     "end_time": "2021-12-15T09:46:27.269661Z",
     "start_time": "2021-12-15T09:46:26.731716Z"
    },
    "slideshow": {
     "slide_type": "skip"
    }
   },
   "outputs": [],
   "source": [
    "t, dt = np.linspace(0, 300, 300000, retstep= True)\n",
    "x = np.zeros_like(t)\n",
    "y = np.zeros_like(t)\n",
    "v_c = np.zeros_like(t)\n",
    "v_e = np.zeros_like(t)\n",
    "\n",
    "T = 2\n",
    "k = 0.015\n",
    "\n",
    "x[0] = 100\n",
    "y[0] = 0\n",
    "v_c[0] = 0\n",
    "v_e[0] = T\n",
    "\n",
    "for i in range(len(t)-1):\n",
    "    x[i+1] = x[i] + dt * (v_c[i] - v_e[i])\n",
    "    y[i+1] = y[i] + dt * (v_e[i] - v_c[i])\n",
    "    v_e[i+1] = T\n",
    "    v_c[i+1] = k * y[i+1]\n"
   ]
  },
  {
   "cell_type": "code",
   "execution_count": 9,
   "id": "d9bea447",
   "metadata": {
    "ExecuteTime": {
     "end_time": "2021-12-15T09:46:28.433832Z",
     "start_time": "2021-12-15T09:46:27.270660Z"
    },
    "scrolled": false,
    "slideshow": {
     "slide_type": "slide"
    }
   },
   "outputs": [
    {
     "data": {
      "image/png": "[encoded data removed]",
      "text/plain": [
       "<Figure size 1008x360 with 2 Axes>"
      ]
     },
     "metadata": {
      "needs_background": "light"
     },
     "output_type": "display_data"
    }
   ],
   "source": [
    "fig, ax = plt.subplots(1,2, figsize=(14, 5))\n",
    "\n",
    "fig.suptitle(\"Invalid Example\")\n",
    "\n",
    "ax[0].plot(t, y, label=r\"gas\", color='red')\n",
    "ax[0].plot(t, x, label=r\"liquid\", color='blue')\n",
    "ax[0].set_xlabel(\"time\")\n",
    "ax[0].set_ylabel(\"amount\")\n",
    "ax[0].set_ylim((0, 100+5))\n",
    "\n",
    "ax[1].plot(t, v_e, label='evaporation', color='orangered')\n",
    "ax[1].plot(t, v_c, label='condensation', color='purple')\n",
    "ax[1].set_xlabel(\"time\")\n",
    "ax[1].set_ylabel(\"reaction rate\")\n",
    "ax[1].set_ylim((0, 2+0.1))\n",
    "\n",
    "ax[0].text(180, 0.98*100, f\"T={T}\", size=12)\n",
    "ax[0].text(180, 0.92*100, f\"k={k}\", size=12)\n",
    "\n",
    "ax[1].legend()\n",
    "ax[0].legend()\n",
    "\n",
    "plt.show()"
   ]
  },
  {
   "cell_type": "code",
   "execution_count": 10,
   "id": "2d313d34",
   "metadata": {
    "ExecuteTime": {
     "end_time": "2021-12-15T09:46:28.439803Z",
     "start_time": "2021-12-15T09:46:28.435802Z"
    },
    "slideshow": {
     "slide_type": "slide"
    }
   },
   "outputs": [
    {
     "name": "stdout",
     "output_type": "stream",
     "text": [
      "초기 물질량: 100.00000, 0.00000 => 100.00000\n",
      "최종 물질량: -31.85218, 131.85218 => 100.00000\n"
     ]
    }
   ],
   "source": [
    "print(f\"초기 물질량: {x[0]:.5f}, {y[0]:.5f} => {x[0]+y[0]:.5f}\")\n",
    "print(f\"최종 물질량: {x[-1]:.5f}, {y[-1]:.5f} => {x[-1]+y[-1]:.5f}\")"
   ]
  },
  {
   "cell_type": "markdown",
   "id": "3fdd36c3",
   "metadata": {
    "slideshow": {
     "slide_type": "slide"
    }
   },
   "source": [
    "다음과 같이 상수나 양이 잘못된 경우 실제로는 나오지 않는 수치가 나온다는 점에서 한계가 있다."
   ]
  },
  {
   "cell_type": "markdown",
   "id": "27b15736",
   "metadata": {
    "slideshow": {
     "slide_type": "slide"
    }
   },
   "source": [
    "## 결론\n",
    "\n",
    "반응 속도 그래프가 책에서 보던것과 많이 닮아 있어 작성한 구성 조건에 나온 식은 유효한 것 같고.\n",
    "또한 초기 물질과 반응 후 물질의 양이 동일한 것으로 보아 결론적으로 잘 작성된 식인 것 같다.\n",
    "\n",
    "다만, 상수 등의 조건 때문에 실제로는 나올 수 없는 수치가 나온다는 점에서 상수를 적절히 조절할 필요가 있다."
   ]
  },
  {
   "cell_type": "markdown",
   "id": "d1b353d0",
   "metadata": {
    "slideshow": {
     "slide_type": "slide"
    }
   },
   "source": [
    "# 용해평형"
   ]
  },
  {
   "cell_type": "markdown",
   "id": "c197ba86",
   "metadata": {
    "slideshow": {
     "slide_type": "slide"
    }
   },
   "source": [
    "## 구성 조건\n",
    "\n",
    "* $\\text{X(s)}\\longleftrightarrow\\text{X(aq)}$는 가역반응이다.\n",
    "\n",
    "* $x$, $y$는 각각 $\\text{X(s)}$와 $\\text{X(aq)}$의 양을 의미한다.\n",
    "\n",
    "* $\\text{X(s)}\\longrightarrow\\text{X(aq)}$(용해, dissolution)의 속도, $v_s$는 일정하다. 구체적으로 $v_s=k_s$\n",
    "\n",
    "* $\\text{X(s)}\\longleftarrow\\text{X(aq)}$(석출, eduction)의 속도, $v_e$는 변하며 용해 속도에 시간이 지날수록 수렴한다.\n",
    "구체적으로 임의의 상수 $k_e$에 대하여 $v_e=k_e y$\n",
    "\n",
    "* $x$, $y$는 다음 식을 만족한다. $$\\begin{cases}\\displaystyle\\frac{dx}{dt}&=v_e-v_s&=k_e y-k_s\\\\\\displaystyle\\frac{dy}{dt}&=v_s-v_e&=k_s-k_ey\\end{cases}$$"
   ]
  },
  {
   "cell_type": "markdown",
   "id": "20ac0da0",
   "metadata": {
    "slideshow": {
     "slide_type": "slide"
    }
   },
   "source": [
    "용해평형은 상평형과 똑같은 식 구조를 지닌다."
   ]
  },
  {
   "cell_type": "markdown",
   "id": "69d102e2",
   "metadata": {
    "slideshow": {
     "slide_type": "slide"
    }
   },
   "source": [
    "# 화학평형"
   ]
  },
  {
   "cell_type": "markdown",
   "id": "234ac6b5",
   "metadata": {
    "slideshow": {
     "slide_type": "slide"
    }
   },
   "source": [
    "## 구성 조건\n",
    "* $2\\text{A}\\longleftrightarrow\\text{A}_2$는 가역반응이다.\n",
    "\n",
    "* $x$, $y$는 각각 $\\text{A}$와 $\\text{A}_2$의 양을 의미한다.\n",
    "\n",
    "* $2\\text{A}\\longrightarrow\\text{A}_2$의 속도, $v_1$는 $A$의 양에 비례한다. $$v_1=k_1 x$$\n",
    "\n",
    "* $2\\text{A}\\longleftarrow\\text{A}_2$의 속도, $v_2$는 $A_2$의 양에 비례한다. $$v_2 = k_2 y$$\n",
    "\n",
    "\n",
    "* $x$, $y$는 다음 식을 만족한다.\n",
    "$$\\begin{cases}\n",
    "\\displaystyle\n",
    "\\frac{dx}{dt}&=2v_2-2v_1&=2k_2 y-2k_1 x\\\\\\displaystyle\\frac{dy}{dt}&=v_1-v_2&=k_1x-k_2y\n",
    "\\end{cases}$$"
   ]
  },
  {
   "cell_type": "markdown",
   "id": "8036117c",
   "metadata": {
    "slideshow": {
     "slide_type": "slide"
    }
   },
   "source": [
    "## 화학평형 예제 1\n",
    "\n",
    "* 초기조건\n",
    "    + $\\text{A}: 1$\n",
    "    + $\\text{A}_2: 0$\n",
    "    + $k_1=0.2$\n",
    "    + $k_2=0.2$"
   ]
  },
  {
   "cell_type": "code",
   "execution_count": 11,
   "id": "a0f5a5bc",
   "metadata": {
    "ExecuteTime": {
     "end_time": "2021-12-15T09:46:28.668835Z",
     "start_time": "2021-12-15T09:46:28.440803Z"
    },
    "slideshow": {
     "slide_type": "skip"
    }
   },
   "outputs": [],
   "source": [
    "t, dt = np.linspace(0, 10, 100000, retstep= True)\n",
    "x = np.zeros_like(t)\n",
    "y = np.zeros_like(t)\n",
    "v1 = np.zeros_like(t)\n",
    "v2 = np.zeros_like(t)\n",
    "\n",
    "k1 = 0.2\n",
    "k2 = 0.2\n",
    "\n",
    "x[0] = 1\n",
    "y[0] = 0\n",
    "v1[0] = k1*x[0]\n",
    "v2[0] = k2*y[0]\n",
    "\n",
    "for i in range(len(t)-1):\n",
    "    x[i+1] = x[i] + dt * 2*(v2[i] - v1[i])\n",
    "    y[i+1] = y[i] + dt * (v1[i] - v2[i])\n",
    "    v1[i+1] = k1 * x[i+1]\n",
    "    v2[i+1] = k2 * y[i+1]"
   ]
  },
  {
   "cell_type": "code",
   "execution_count": 12,
   "id": "5e9f1710",
   "metadata": {
    "ExecuteTime": {
     "end_time": "2021-12-15T09:46:29.096770Z",
     "start_time": "2021-12-15T09:46:28.669835Z"
    },
    "slideshow": {
     "slide_type": "slide"
    }
   },
   "outputs": [
    {
     "data": {
      "image/png": "[encoded data removed]",
      "text/plain": [
       "<Figure size 1008x360 with 2 Axes>"
      ]
     },
     "metadata": {
      "needs_background": "light"
     },
     "output_type": "display_data"
    }
   ],
   "source": [
    "fig, ax = plt.subplots(1,2, figsize=(14, 5))\n",
    "\n",
    "fig.suptitle(f\"Example A {x[0]}\")\n",
    "\n",
    "ax[0].plot(t, y, label=r\"A2\", color='red')\n",
    "ax[0].plot(t, x, label=r\"A\", color='blue')\n",
    "ax[0].set_xlabel(\"time\")\n",
    "ax[0].set_ylabel(\"amount\")\n",
    "ax[0].set_ylim((0, 1+0.05))\n",
    "\n",
    "ax[1].plot(t, v1, label='A to A2', color='orangered')\n",
    "ax[1].plot(t, v2, label='A2 to A', color='purple')\n",
    "ax[1].set_xlabel(\"time\")\n",
    "ax[1].set_ylabel(\"reaction rate\")\n",
    "ax[1].set_ylim((0, 0.2+0.01))\n",
    "\n",
    "ax[0].text(6, 0.98, f\"k1={k1}\", size=12)\n",
    "ax[0].text(6, 0.92, f\"k2={k2}\", size=12)\n",
    "\n",
    "ax[1].legend()\n",
    "ax[0].legend()\n",
    "\n",
    "plt.show()"
   ]
  },
  {
   "cell_type": "code",
   "execution_count": 13,
   "id": "bc99da00",
   "metadata": {
    "ExecuteTime": {
     "end_time": "2021-12-15T09:46:29.100771Z",
     "start_time": "2021-12-15T09:46:29.097770Z"
    },
    "slideshow": {
     "slide_type": "slide"
    }
   },
   "outputs": [
    {
     "name": "stdout",
     "output_type": "stream",
     "text": [
      "초기 물질량: 1.00000, 0.00000 => 1.00000\n",
      "최종 물질량: 0.33499, 0.33251 => 1.00000\n"
     ]
    }
   ],
   "source": [
    "print(f\"초기 물질량: {x[0]:.5f}, {y[0]:.5f} => {x[0]+2*y[0]:.5f}\")\n",
    "print(f\"최종 물질량: {x[-1]:.5f}, {y[-1]:.5f} => {x[-1]+2*y[-1]:.5f}\")"
   ]
  },
  {
   "cell_type": "markdown",
   "id": "78a38cce",
   "metadata": {
    "slideshow": {
     "slide_type": "slide"
    }
   },
   "source": [
    "## 화학평형 예제 2\n",
    "\n",
    "* 초기조건\n",
    "    + $\\text{A}: 0$\n",
    "    + $\\text{A}_2: 0.5$\n",
    "    + $k_1=0.2$\n",
    "    + $k_2=0.2$"
   ]
  },
  {
   "cell_type": "code",
   "execution_count": 14,
   "id": "12ee79e0",
   "metadata": {
    "ExecuteTime": {
     "end_time": "2021-12-15T09:46:29.327562Z",
     "start_time": "2021-12-15T09:46:29.101771Z"
    },
    "slideshow": {
     "slide_type": "skip"
    }
   },
   "outputs": [],
   "source": [
    "t, dt = np.linspace(0, 10, 100000, retstep= True)\n",
    "x = np.zeros_like(t)\n",
    "y = np.zeros_like(t)\n",
    "v1 = np.zeros_like(t)\n",
    "v2 = np.zeros_like(t)\n",
    "\n",
    "k1 = 0.2\n",
    "k2 = 0.2\n",
    "\n",
    "x[0] = 0\n",
    "y[0] = 0.5\n",
    "v1[0] = k1*x[0]\n",
    "v2[0] = k2*y[0]\n",
    "\n",
    "for i in range(len(t)-1):\n",
    "    x[i+1] = x[i] + dt * 2*(v2[i] - v1[i])\n",
    "    y[i+1] = y[i] + dt * (v1[i] - v2[i])\n",
    "    v1[i+1] = k1 * x[i+1]\n",
    "    v2[i+1] = k2 * y[i+1]"
   ]
  },
  {
   "cell_type": "code",
   "execution_count": 15,
   "id": "209eeeed",
   "metadata": {
    "ExecuteTime": {
     "end_time": "2021-12-15T09:46:29.693958Z",
     "start_time": "2021-12-15T09:46:29.328562Z"
    },
    "scrolled": false,
    "slideshow": {
     "slide_type": "slide"
    }
   },
   "outputs": [
    {
     "data": {
      "image/png": "[encoded data removed]",
      "text/plain": [
       "<Figure size 1008x360 with 2 Axes>"
      ]
     },
     "metadata": {
      "needs_background": "light"
     },
     "output_type": "display_data"
    }
   ],
   "source": [
    "fig, ax = plt.subplots(1,2, figsize=(14, 5))\n",
    "\n",
    "fig.suptitle(f\"Example A2 {y[0]}\")\n",
    "\n",
    "ax[0].plot(t, y, label=r\"A2\", color='red')\n",
    "ax[0].plot(t, x, label=r\"A\", color='blue')\n",
    "ax[0].set_xlabel(\"time\")\n",
    "ax[0].set_ylabel(\"amount\")\n",
    "ax[0].set_ylim((0, 1+0.05))\n",
    "\n",
    "ax[1].plot(t, v1, label='A to A2', color='orangered')\n",
    "ax[1].plot(t, v2, label='A2 to A', color='purple')\n",
    "ax[1].set_xlabel(\"time\")\n",
    "ax[1].set_ylabel(\"reaction rate\")\n",
    "ax[1].set_ylim((0, 0.2+0.01))\n",
    "\n",
    "ax[0].text(6, 0.98, f\"k1={k1}\", size=12)\n",
    "ax[0].text(6, 0.92, f\"k2={k2}\", size=12)\n",
    "\n",
    "ax[1].legend()\n",
    "ax[0].legend()\n",
    "\n",
    "plt.show()"
   ]
  },
  {
   "cell_type": "code",
   "execution_count": 16,
   "id": "5c77d824",
   "metadata": {
    "ExecuteTime": {
     "end_time": "2021-12-15T09:46:29.697959Z",
     "start_time": "2021-12-15T09:46:29.694958Z"
    },
    "slideshow": {
     "slide_type": "slide"
    }
   },
   "outputs": [
    {
     "name": "stdout",
     "output_type": "stream",
     "text": [
      "초기 물질량: 0.00000, 0.50000 => 1.00000\n",
      "최종 물질량: 0.33251, 0.33375 => 1.00000\n"
     ]
    }
   ],
   "source": [
    "print(f\"초기 물질량: {x[0]:.5f}, {y[0]:.5f} => {x[0]+2*y[0]:.5f}\")\n",
    "print(f\"최종 물질량: {x[-1]:.5f}, {y[-1]:.5f} => {x[-1]+2*y[-1]:.5f}\")"
   ]
  },
  {
   "cell_type": "markdown",
   "id": "b9b2b791",
   "metadata": {
    "slideshow": {
     "slide_type": "slide"
    }
   },
   "source": [
    "## 화학평형 예제 3\n",
    "\n",
    "* 초기조건\n",
    "    + $\\text{A}: 0.5$\n",
    "    + $\\text{A}_2: 0.25$\n",
    "    + $k_1=0.2$\n",
    "    + $k_2=0.2$"
   ]
  },
  {
   "cell_type": "code",
   "execution_count": 17,
   "id": "64ceb68f",
   "metadata": {
    "ExecuteTime": {
     "end_time": "2021-12-15T09:46:29.933631Z",
     "start_time": "2021-12-15T09:46:29.698959Z"
    },
    "slideshow": {
     "slide_type": "skip"
    }
   },
   "outputs": [],
   "source": [
    "t, dt = np.linspace(0, 10, 100000, retstep= True)\n",
    "x = np.zeros_like(t)\n",
    "y = np.zeros_like(t)\n",
    "v1 = np.zeros_like(t)\n",
    "v2 = np.zeros_like(t)\n",
    "\n",
    "k1 = 0.2\n",
    "k2 = 0.2\n",
    "\n",
    "x[0] = 0.5\n",
    "y[0] = 0.25\n",
    "v1[0] = k1*x[0]\n",
    "v2[0] = k2*y[0]\n",
    "\n",
    "for i in range(len(t)-1):\n",
    "    x[i+1] = x[i] + dt * 2*(v2[i] - v1[i])\n",
    "    y[i+1] = y[i] + dt * (v1[i] - v2[i])\n",
    "    v1[i+1] = k1 * x[i+1]\n",
    "    v2[i+1] = k2 * y[i+1]"
   ]
  },
  {
   "cell_type": "code",
   "execution_count": 18,
   "id": "d92024f5",
   "metadata": {
    "ExecuteTime": {
     "end_time": "2021-12-15T09:46:30.287028Z",
     "start_time": "2021-12-15T09:46:29.933631Z"
    },
    "slideshow": {
     "slide_type": "slide"
    }
   },
   "outputs": [
    {
     "data": {
      "image/png": "[encoded data removed]",
      "text/plain": [
       "<Figure size 1008x360 with 2 Axes>"
      ]
     },
     "metadata": {
      "needs_background": "light"
     },
     "output_type": "display_data"
    }
   ],
   "source": [
    "fig, ax = plt.subplots(1,2, figsize=(14, 5))\n",
    "\n",
    "fig.suptitle(f\"Example A {x[0]}/A2 {y[0]}\")\n",
    "\n",
    "ax[0].plot(t, y, label=r\"A2\", color='red')\n",
    "ax[0].plot(t, x, label=r\"A\", color='blue')\n",
    "ax[0].set_xlabel(\"time\")\n",
    "ax[0].set_ylabel(\"amount\")\n",
    "ax[0].set_ylim((0, 1+0.05))\n",
    "\n",
    "ax[1].plot(t, v1, label='A to A2', color='orangered')\n",
    "ax[1].plot(t, v2, label='A2 to A', color='purple')\n",
    "ax[1].set_xlabel(\"time\")\n",
    "ax[1].set_ylabel(\"reaction rate\")\n",
    "ax[1].set_ylim((0, 0.2+0.01))\n",
    "\n",
    "ax[0].text(6, 0.98, f\"k1={k1}\", size=12)\n",
    "ax[0].text(6, 0.92, f\"k2={k2}\", size=12)\n",
    "\n",
    "ax[1].legend()\n",
    "ax[0].legend()\n",
    "\n",
    "plt.show()"
   ]
  },
  {
   "cell_type": "code",
   "execution_count": 19,
   "id": "54257391",
   "metadata": {
    "ExecuteTime": {
     "end_time": "2021-12-15T09:46:30.291030Z",
     "start_time": "2021-12-15T09:46:30.288028Z"
    },
    "slideshow": {
     "slide_type": "slide"
    }
   },
   "outputs": [
    {
     "name": "stdout",
     "output_type": "stream",
     "text": [
      "초기 물질량: 0.50000, 0.25000 => 1.00000\n",
      "최종 물질량: 0.33375, 0.33313 => 1.00000\n"
     ]
    }
   ],
   "source": [
    "print(f\"초기 물질량: {x[0]:.5f}, {y[0]:.5f} => {x[0]+2*y[0]:.5f}\")\n",
    "print(f\"최종 물질량: {x[-1]:.5f}, {y[-1]:.5f} => {x[-1]+2*y[-1]:.5f}\")"
   ]
  },
  {
   "cell_type": "markdown",
   "id": "4d27d4c7",
   "metadata": {
    "slideshow": {
     "slide_type": "slide"
    }
   },
   "source": [
    "## 결론\n",
    "\n",
    "세가지 예제 모두 초기 $A$의 양이 일정하다면 동일한 동적평형 상태로 수렴한다. (단, $k_i$도 동일해야함)\n",
    "\n",
    "이 식도 책에서 보던 화학평형 상태를 잘 반영하고 물질량도 불변하므로 반응이 잘 구현된 식인 것 같다."
   ]
  },
  {
   "cell_type": "markdown",
   "id": "df0ec322",
   "metadata": {
    "slideshow": {
     "slide_type": "slide"
    }
   },
   "source": [
    "# 동적 평형 일반화"
   ]
  },
  {
   "cell_type": "markdown",
   "id": "bf974d76",
   "metadata": {
    "slideshow": {
     "slide_type": "slide"
    }
   },
   "source": [
    "## 구성 조건\n",
    "* $a\\text{A}\\longleftrightarrow b\\text{B}$는 가역반응이다.\n",
    "\n",
    "* $x$, $y$는 각각 $\\text{A}$와 $\\text{B}$의 양을 의미한다.\n",
    "\n",
    "* $a\\text{A}\\longrightarrow b\\text{B}$의 속도, $v_1$는 $A$의 양에 비례한다. $$v_1=k_1 x$$\n",
    "\n",
    "* $a\\text{A}\\longleftarrow b\\text{B}$의 속도, $v_2$는 $A_2$의 양에 비례한다. $$v_2 = k_2 y$$\n",
    "\n",
    "\n",
    "* $x$, $y$는 다음 식을 만족한다.\n",
    "$$\\begin{cases}\n",
    "\\displaystyle\n",
    "\\frac{dx}{dt}&=a v_2-a v_1&=ak_2 y-ak_1 x\\\\\\displaystyle\\frac{dy}{dt}&=bv_1-bv_2&=bk_1x-bk_2y\n",
    "\\end{cases}$$"
   ]
  },
  {
   "cell_type": "markdown",
   "id": "0efe8302",
   "metadata": {
    "slideshow": {
     "slide_type": "slide"
    }
   },
   "source": [
    "## 일반화 예제 1\n",
    "\n",
    "$$3\\text{A}\\longleftrightarrow 1\\text{B}$$\n",
    "\n",
    "* 초기조건\n",
    "    + $\\text{A}: 1$\n",
    "    + $\\text{B}: 0$\n",
    "    + $k_1=0.2$\n",
    "    + $k_2=0.2$"
   ]
  },
  {
   "cell_type": "code",
   "execution_count": 31,
   "id": "a52f622a",
   "metadata": {
    "ExecuteTime": {
     "end_time": "2021-12-15T09:52:23.575353Z",
     "start_time": "2021-12-15T09:52:23.301779Z"
    },
    "slideshow": {
     "slide_type": "skip"
    }
   },
   "outputs": [],
   "source": [
    "t, dt = np.linspace(0, 10, 100000, retstep= True)\n",
    "x = np.zeros_like(t)\n",
    "y = np.zeros_like(t)\n",
    "v1 = np.zeros_like(t)\n",
    "v2 = np.zeros_like(t)\n",
    "\n",
    "k1 = 0.2\n",
    "k2 = 0.2\n",
    "\n",
    "a=3\n",
    "b=1\n",
    "\n",
    "x[0] = 1\n",
    "y[0] = 0\n",
    "v1[0] = k1*x[0]\n",
    "v2[0] = k2*y[0]\n",
    "\n",
    "for i in range(len(t)-1):\n",
    "    x[i+1] = x[i] + dt * a*(v2[i] - v1[i])\n",
    "    y[i+1] = y[i] + dt * b*(v1[i] - v2[i])\n",
    "    v1[i+1] = k1 * x[i+1]\n",
    "    v2[i+1] = k2 * y[i+1]"
   ]
  },
  {
   "cell_type": "code",
   "execution_count": 32,
   "id": "7bca5cac",
   "metadata": {
    "ExecuteTime": {
     "end_time": "2021-12-15T09:52:24.026812Z",
     "start_time": "2021-12-15T09:52:23.637700Z"
    },
    "slideshow": {
     "slide_type": "slide"
    }
   },
   "outputs": [
    {
     "data": {
      "image/png": "[encoded data removed]",
      "text/plain": [
       "<Figure size 1008x360 with 2 Axes>"
      ]
     },
     "metadata": {
      "needs_background": "light"
     },
     "output_type": "display_data"
    }
   ],
   "source": [
    "fig, ax = plt.subplots(1,2, figsize=(14, 5))\n",
    "\n",
    "fig.suptitle(f\"Example I\")\n",
    "\n",
    "ax[0].plot(t, x, label=r\"A\", color='red')\n",
    "ax[0].plot(t, y, label=r\"B\", color='blue')\n",
    "ax[0].set_xlabel(\"time\")\n",
    "ax[0].set_ylabel(\"amount\")\n",
    "ax[0].set_ylim((0, 1+0.05))\n",
    "\n",
    "ax[1].plot(t, v1, label='A to B', color='red')\n",
    "ax[1].plot(t, v2, label='B to A', color='blue')\n",
    "ax[1].set_xlabel(\"time\")\n",
    "ax[1].set_ylabel(\"reaction rate\")\n",
    "ax[1].set_ylim((0, 0.2+0.01))\n",
    "\n",
    "ax[0].text(6, 0.98, f\"k1={k1}\", size=12)\n",
    "ax[0].text(6, 0.92, f\"k2={k2}\", size=12)\n",
    "\n",
    "ax[1].legend()\n",
    "ax[0].legend()\n",
    "\n",
    "plt.show()"
   ]
  },
  {
   "cell_type": "code",
   "execution_count": 33,
   "id": "15aceb10",
   "metadata": {
    "ExecuteTime": {
     "end_time": "2021-12-15T09:52:25.854992Z",
     "start_time": "2021-12-15T09:52:25.850046Z"
    },
    "slideshow": {
     "slide_type": "slide"
    }
   },
   "outputs": [
    {
     "name": "stdout",
     "output_type": "stream",
     "text": [
      "초기 물질량: 1.00000, 0.00000 => 1.00000\n",
      "최종 물질량: 0.25025, 0.24992 => 1.00000\n"
     ]
    }
   ],
   "source": [
    "print(f\"초기 물질량: {x[0]:.5f}, {y[0]:.5f} => {b*x[0]+a*y[0]:.5f}\")\n",
    "print(f\"최종 물질량: {x[-1]:.5f}, {y[-1]:.5f} => {b*x[-1]+a*y[-1]:.5f}\")"
   ]
  },
  {
   "cell_type": "markdown",
   "id": "ecbc1966",
   "metadata": {
    "ExecuteTime": {
     "end_time": "2021-12-15T09:23:40.479116Z",
     "start_time": "2021-12-15T09:23:40.474608Z"
    },
    "slideshow": {
     "slide_type": "slide"
    }
   },
   "source": [
    "## 일반화 예제 2\n",
    "\n",
    "$$3\\text{A}\\longleftrightarrow 2\\text{B}$$\n",
    "\n",
    "* 초기조건\n",
    "    + $\\text{A}: 0$\n",
    "    + $\\text{B}: 1$\n",
    "    + $k_1=0.2$\n",
    "    + $k_2=0.2$"
   ]
  },
  {
   "cell_type": "code",
   "execution_count": 36,
   "id": "ba85aa09",
   "metadata": {
    "ExecuteTime": {
     "end_time": "2021-12-15T09:53:13.269346Z",
     "start_time": "2021-12-15T09:53:12.990666Z"
    },
    "slideshow": {
     "slide_type": "skip"
    }
   },
   "outputs": [],
   "source": [
    "t, dt = np.linspace(0, 10, 100000, retstep= True)\n",
    "x = np.zeros_like(t)\n",
    "y = np.zeros_like(t)\n",
    "v1 = np.zeros_like(t)\n",
    "v2 = np.zeros_like(t)\n",
    "\n",
    "k1 = 0.2\n",
    "k2 = 0.2\n",
    "\n",
    "a=3\n",
    "b=2\n",
    "\n",
    "x[0] = 0\n",
    "y[0] = 1\n",
    "v1[0] = k1*x[0]\n",
    "v2[0] = k2*y[0]\n",
    "\n",
    "for i in range(len(t)-1):\n",
    "    x[i+1] = x[i] + dt * a*(v2[i] - v1[i])\n",
    "    y[i+1] = y[i] + dt * b*(v1[i] - v2[i])\n",
    "    v1[i+1] = k1 * x[i+1]\n",
    "    v2[i+1] = k2 * y[i+1]"
   ]
  },
  {
   "cell_type": "code",
   "execution_count": 37,
   "id": "0bf7646a",
   "metadata": {
    "ExecuteTime": {
     "end_time": "2021-12-15T09:53:13.769513Z",
     "start_time": "2021-12-15T09:53:13.377395Z"
    },
    "slideshow": {
     "slide_type": "slide"
    }
   },
   "outputs": [
    {
     "data": {
      "image/png": "[encoded data removed]",
      "text/plain": [
       "<Figure size 1008x360 with 2 Axes>"
      ]
     },
     "metadata": {
      "needs_background": "light"
     },
     "output_type": "display_data"
    }
   ],
   "source": [
    "fig, ax = plt.subplots(1,2, figsize=(14, 5))\n",
    "\n",
    "fig.suptitle(f\"Example II\")\n",
    "\n",
    "ax[0].plot(t, x, label=r\"A\", color='red')\n",
    "ax[0].plot(t, y, label=r\"B\", color='blue')\n",
    "ax[0].set_xlabel(\"time\")\n",
    "ax[0].set_ylabel(\"amount\")\n",
    "ax[0].set_ylim((0, 1+0.05))\n",
    "\n",
    "ax[1].plot(t, v1, label='A to B', color='red')\n",
    "ax[1].plot(t, v2, label='B to A', color='blue')\n",
    "ax[1].set_xlabel(\"time\")\n",
    "ax[1].set_ylabel(\"reaction rate\")\n",
    "ax[1].set_ylim((0, 0.2+0.01))\n",
    "\n",
    "ax[0].text(6, 0.98, f\"k1={k1}\", size=12)\n",
    "ax[0].text(6, 0.92, f\"k2={k2}\", size=12)\n",
    "\n",
    "ax[1].legend()\n",
    "ax[0].legend()\n",
    "\n",
    "plt.show()"
   ]
  },
  {
   "cell_type": "code",
   "execution_count": 39,
   "id": "6dd87174",
   "metadata": {
    "ExecuteTime": {
     "end_time": "2021-12-15T09:53:41.432748Z",
     "start_time": "2021-12-15T09:53:41.429748Z"
    },
    "slideshow": {
     "slide_type": "slide"
    }
   },
   "outputs": [
    {
     "name": "stdout",
     "output_type": "stream",
     "text": [
      "초기 물질량: 0.00000, 1.00000 => 3.00000\n",
      "최종 물질량: 0.59997, 0.60002 => 3.00000\n"
     ]
    }
   ],
   "source": [
    "print(f\"초기 물질량: {x[0]:.5f}, {y[0]:.5f} => {b*x[0]+a*y[0]:.5f}\")\n",
    "print(f\"최종 물질량: {x[-1]:.5f}, {y[-1]:.5f} => {b*x[-1]+a*y[-1]:.5f}\")"
   ]
  },
  {
   "cell_type": "markdown",
   "id": "a2a5ae1c",
   "metadata": {
    "slideshow": {
     "slide_type": "slide"
    }
   },
   "source": [
    "## 결론\n",
    "\n",
    "확언할 수는 없지만 지금까지의 동적평형을 보았을 때, 이 식은 일반화된 동적평형을 잘 반영하는 것 같다.\n",
    "\n",
    "이 식으로 동적평형에서 반응물, 생성물이 단일할 때 계수에 따라 일반화할 수 있었다."
   ]
  }
 ],
 "metadata": {
  "celltoolbar": "Slideshow",
  "hide_input": false,
  "kernelspec": {
   "display_name": "Python 3 (ipykernel)",
   "language": "python",
   "name": "python3"
  },
  "language_info": {
   "codemirror_mode": {
    "name": "ipython",
    "version": 3
   },
   "file_extension": ".py",
   "mimetype": "text/x-python",
   "name": "python",
   "nbconvert_exporter": "python",
   "pygments_lexer": "ipython3",
   "version": "3.9.7"
  },
  "latex_envs": {
   "LaTeX_envs_menu_present": true,
   "autoclose": false,
   "autocomplete": true,
   "bibliofile": "biblio.bib",
   "cite_by": "apalike",
   "current_citInitial": 1,
   "eqLabelWithNumbers": true,
   "eqNumInitial": 1,
   "hotkeys": {
    "equation": "Ctrl-E",
    "itemize": "Ctrl-I"
   },
   "labels_anchors": false,
   "latex_user_defs": false,
   "report_style_numbering": false,
   "user_envs_cfg": false
  },
  "toc": {
   "base_numbering": 1,
   "nav_menu": {},
   "number_sections": true,
   "sideBar": true,
   "skip_h1_title": false,
   "title_cell": "Table of Contents",
   "title_sidebar": "Contents",
   "toc_cell": false,
   "toc_position": {
    "height": "calc(100% - 180px)",
    "left": "10px",
    "top": "150px",
    "width": "272px"
   },
   "toc_section_display": true,
   "toc_window_display": false
  },
  "varInspector": {
   "cols": {
    "lenName": 16,
    "lenType": 16,
    "lenVar": 40
   },
   "kernels_config": {
    "python": {
     "delete_cmd_postfix": "",
     "delete_cmd_prefix": "del ",
     "library": "var_list.py",
     "varRefreshCmd": "print(var_dic_list())"
    },
    "r": {
     "delete_cmd_postfix": ") ",
     "delete_cmd_prefix": "rm(",
     "library": "var_list.r",
     "varRefreshCmd": "cat(var_dic_list()) "
    }
   },
   "types_to_exclude": [
    "module",
    "function",
    "builtin_function_or_method",
    "instance",
    "_Feature"
   ],
   "window_display": false
  }
 },
 "nbformat": 4,
 "nbformat_minor": 5
}
